{
  "nbformat": 4,
  "nbformat_minor": 0,
  "metadata": {
    "colab": {
      "name": "Python programming.ipynb",
      "provenance": [],
      "collapsed_sections": [],
      "authorship_tag": "ABX9TyNnFCbq+y2j0WohNvJovURU",
      "include_colab_link": true
    },
    "kernelspec": {
      "name": "python3",
      "display_name": "Python 3"
    },
    "language_info": {
      "name": "python"
    }
  },
  "cells": [
    {
      "cell_type": "markdown",
      "metadata": {
        "id": "view-in-github",
        "colab_type": "text"
      },
      "source": [
        "<a href=\"https://colab.research.google.com/github/Beered95/Python-basics/blob/child_branch/Python_programming.ipynb\" target=\"_parent\"><img src=\"https://colab.research.google.com/assets/colab-badge.svg\" alt=\"Open In Colab\"/></a>"
      ]
    },
    {
      "cell_type": "markdown",
      "source": [
        "## PYTHON TUTORIALS\n"
      ],
      "metadata": {
        "id": "Lv75AiJ2w0D3"
      }
    },
    {
      "cell_type": "markdown",
      "source": [
        "### What is a Variable\n",
        "A Variable is a place in memory where information is stored"
      ],
      "metadata": {
        "id": "ojPZTALYw_Dh"
      }
    },
    {
      "cell_type": "code",
      "source": [
        "# This is an example of a variable\n",
        "first_name = 'Benjamin'\n",
        "a = 15\n"
      ],
      "metadata": {
        "id": "g6208tTAwuFw"
      },
      "execution_count": null,
      "outputs": []
    },
    {
      "cell_type": "markdown",
      "source": [
        "### What is a String\n",
        "\n",
        "A string is a piece of text with quotation marks..\n"
      ],
      "metadata": {
        "id": "CtjmAKbKx7tU"
      }
    },
    {
      "cell_type": "code",
      "source": [
        "# this is an example of a string\n",
        "first_name = \"Benjamin\"\n"
      ],
      "metadata": {
        "id": "W8-7W-p9yJ55"
      },
      "execution_count": null,
      "outputs": []
    }
  ]
}